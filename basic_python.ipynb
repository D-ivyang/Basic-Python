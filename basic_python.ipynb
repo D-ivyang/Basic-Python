{
  "nbformat": 4,
  "nbformat_minor": 0,
  "metadata": {
    "colab": {
      "name": "basic python.ipynb",
      "provenance": []
    },
    "kernelspec": {
      "name": "python3",
      "display_name": "Python 3"
    },
    "language_info": {
      "name": "python"
    }
  },
  "cells": [
    {
      "cell_type": "code",
      "metadata": {
        "id": "KaA8yMZX9_or",
        "colab": {
          "base_uri": "https://localhost:8080/",
          "height": 37
        },
        "outputId": "93cba342-c166-4105-9e50-5d267ea98121"
      },
      "source": [
        "#This is a long comment\n",
        "#and it extends\n",
        "#to multiple lines\n",
        "\n",
        "\"\"\"This is also a\n",
        "perfect example of\n",
        "multi-line comments\"\"\"\n",
        "\n",
        "''' this is a multiline\n",
        "comment'''"
      ],
      "execution_count": 1,
      "outputs": [
        {
          "output_type": "execute_result",
          "data": {
            "application/vnd.google.colaboratory.intrinsic+json": {
              "type": "string"
            },
            "text/plain": [
              "' this is a multiline\\ncomment'"
            ]
          },
          "metadata": {},
          "execution_count": 1
        }
      ]
    },
    {
      "cell_type": "code",
      "metadata": {
        "colab": {
          "base_uri": "https://localhost:8080/"
        },
        "id": "_G7aU1e3CKJP",
        "outputId": "f153405c-f2ef-4d59-ede2-9f775706a5f6"
      },
      "source": [
        "#Variable assignments\n",
        "a=10\n",
        "b=20\n",
        "a = 5; d=10 \n",
        "b , c= 3.2 , \"Hello\"\n",
        "x = y = z = \"WOrld\"\n",
        "\n",
        "#print() function\n",
        "\n",
        "print(c)\n",
        "print()\n",
        "print(\"Value of a=\",a)\n",
        "print(\"value of b=\\n\",b)\n",
        "print(b,c)\n",
        "print(b,c,sep=\",\")\n",
        "c\n",
        "print(b)"
      ],
      "execution_count": 2,
      "outputs": [
        {
          "output_type": "stream",
          "name": "stdout",
          "text": [
            "Hello\n",
            "\n",
            "Value of a= 5\n",
            "value of b=\n",
            " 3.2\n",
            "3.2 Hello\n",
            "3.2,Hello\n",
            "3.2\n"
          ]
        }
      ]
    },
    {
      "cell_type": "code",
      "metadata": {
        "colab": {
          "base_uri": "https://localhost:8080/"
        },
        "id": "4jsjqJqDCSYQ",
        "outputId": "d3941f16-deb9-4308-9238-3f5687a8d026"
      },
      "source": [
        "#Division operation in Python\n",
        "print(1/3)\n",
        "\n",
        "print(1//3) #floored division\n",
        "\n",
        "print(7%3)\n",
        "\n",
        "b=1/3\n",
        "print(round(b,4))\n",
        "#print(round(1/3,2))\n"
      ],
      "execution_count": 4,
      "outputs": [
        {
          "output_type": "stream",
          "name": "stdout",
          "text": [
            "0.3333333333333333\n",
            "0\n",
            "1\n",
            "0.3333\n"
          ]
        }
      ]
    },
    {
      "cell_type": "code",
      "metadata": {
        "colab": {
          "base_uri": "https://localhost:8080/"
        },
        "id": "WuT43iPiCaC2",
        "outputId": "6da0c246-d6bf-4bd7-832e-9747c9f8d23b"
      },
      "source": [
        "#Python does type inferencing automatically\n",
        "a=5\n",
        "b=3.2\n",
        "print(type(b))\n",
        "print(a+b)\n",
        "a=\"5\"\n",
        "b=\"3.2\"\n",
        "print(a+b,b+a,sep=\",\")\n",
        "print(type(b))"
      ],
      "execution_count": 5,
      "outputs": [
        {
          "output_type": "stream",
          "name": "stdout",
          "text": [
            "<class 'float'>\n",
            "8.2\n",
            "53.2,3.25\n",
            "<class 'str'>\n"
          ]
        }
      ]
    },
    {
      "cell_type": "code",
      "metadata": {
        "colab": {
          "base_uri": "https://localhost:8080/"
        },
        "id": "ehRLwac3CdJV",
        "outputId": "70ec3c7e-fe9d-4aa3-d781-0acd2f02f14f"
      },
      "source": [
        "#User input\n",
        "\n",
        "name=input(\"Enter your name: \")\n",
        "print(\"Hello \",name)"
      ],
      "execution_count": 6,
      "outputs": [
        {
          "output_type": "stream",
          "name": "stdout",
          "text": [
            "Enter your name: div\n",
            "Hello  div\n"
          ]
        }
      ]
    },
    {
      "cell_type": "code",
      "metadata": {
        "colab": {
          "base_uri": "https://localhost:8080/"
        },
        "id": "t-J7mfBtCgOX",
        "outputId": "bf165a8c-728a-43fe-cb0f-6e3e68bb0fb9"
      },
      "source": [
        "#type casting the input which is in string format by default\n",
        "num1=float(input(\"Enter the 1st num:\"))\n",
        "num2=float(input(\"Enter the 2nd num:\"))\n",
        "print(num1+num2)"
      ],
      "execution_count": 7,
      "outputs": [
        {
          "output_type": "stream",
          "name": "stdout",
          "text": [
            "Enter the 1st num:12\n",
            "Enter the 2nd num:12\n",
            "24.0\n"
          ]
        }
      ]
    },
    {
      "cell_type": "code",
      "metadata": {
        "colab": {
          "base_uri": "https://localhost:8080/"
        },
        "id": "f3HHHcScCkHU",
        "outputId": "8f5ad909-b5c9-4ab3-aea9-a5b53cc0362a"
      },
      "source": [
        "#Simple if-else structure\n",
        "x=20\n",
        "y=10\n",
        "\n",
        "if x<y:\n",
        "    \n",
        "    print(\"This is the first block\")\n",
        "    print(\"X is less than Y\")\n",
        "\n",
        "else:\n",
        "    print(\"This is the second block\")\n",
        "    print(\"X is greater than Y\")\n",
        "\n",
        "print(\"Done\")"
      ],
      "execution_count": 8,
      "outputs": [
        {
          "output_type": "stream",
          "name": "stdout",
          "text": [
            "This is the second block\n",
            "X is greater than Y\n",
            "Done\n"
          ]
        }
      ]
    },
    {
      "cell_type": "code",
      "metadata": {
        "colab": {
          "base_uri": "https://localhost:8080/"
        },
        "id": "UeFJqRnuCon0",
        "outputId": "33f324f5-f81b-49eb-8274-b387a7962632"
      },
      "source": [
        "#Nested if-else structure \n",
        "x=10\n",
        "y=8\n",
        "\n",
        "if x==y:\n",
        "    print(\"X and Y are equal\")\n",
        "else:\n",
        "    if x<y:\n",
        "        print(\"X is less than Y\")\n",
        "    else:\n",
        "        print(\"X is greater than Y\")\n",
        "    print(\"Executed\")\n",
        "print(\"Done\")"
      ],
      "execution_count": 9,
      "outputs": [
        {
          "output_type": "stream",
          "name": "stdout",
          "text": [
            "X is greater than Y\n",
            "Executed\n",
            "Done\n"
          ]
        }
      ]
    },
    {
      "cell_type": "code",
      "metadata": {
        "colab": {
          "base_uri": "https://localhost:8080/"
        },
        "id": "0OaC-g1ECqh5",
        "outputId": "a9d7e5f5-fce5-4add-927e-37d45c2a84c3"
      },
      "source": [
        "#Conditional Execution statement\n",
        "#If-elif-elif-else ladder\n",
        "\n",
        "salary=80000\n",
        "\n",
        "if salary<30000:\n",
        "    print(\"This is the first salary bracket\")\n",
        "    print(\"Employee belongs to Low Income Group\")\n",
        "elif salary<60000:\n",
        "    print(\"This is the second salary bracket\")\n",
        "    print(\"Employee belongs to Medium Income Group\")\n",
        "elif salary<100000:\n",
        "    print(\"This is the third salary bracket\")\n",
        "    print(\"Employee belongs to High Income Group\")\n",
        "else:\n",
        "    print(\"This is the fourth salary bracket\")\n",
        "    print(\"Employee belongs to  Very High Income Group\")\n",
        "\n",
        "print(\"Done\")"
      ],
      "execution_count": 10,
      "outputs": [
        {
          "output_type": "stream",
          "name": "stdout",
          "text": [
            "This is the third salary bracket\n",
            "Employee belongs to High Income Group\n",
            "Done\n"
          ]
        }
      ]
    },
    {
      "cell_type": "code",
      "metadata": {
        "colab": {
          "base_uri": "https://localhost:8080/"
        },
        "id": "SpM_4ah-CseE",
        "outputId": "3f44390f-e0fc-4ac4-ec60-9bdbc4794c58"
      },
      "source": [
        "#Check for even odd number\n",
        "num1=float(input(\"Enter the num:\"))\n",
        "if num1%2==0:\n",
        "    print(num1, \"is an even number\")\n",
        "else:\n",
        "    print(num1, \"is an odd number\")"
      ],
      "execution_count": 11,
      "outputs": [
        {
          "output_type": "stream",
          "name": "stdout",
          "text": [
            "Enter the num:2\n",
            "2.0 is an even number\n"
          ]
        }
      ]
    },
    {
      "cell_type": "code",
      "metadata": {
        "colab": {
          "base_uri": "https://localhost:8080/"
        },
        "id": "uAkA7hakCuqL",
        "outputId": "74bdd54f-7adb-40f6-b2ad-698a061754e2"
      },
      "source": [
        "#multiple condition checking using logical operators\n",
        "x=7;y=5\n",
        "if x>6 and y<7:\n",
        "    #T and F==>F\n",
        "    print('x is a positive single-digit number')\n",
        "#AND-->&\n",
        "#OR-->|\n",
        "#NOT-->!"
      ],
      "execution_count": 12,
      "outputs": [
        {
          "output_type": "stream",
          "name": "stdout",
          "text": [
            "x is a positive single-digit number\n"
          ]
        }
      ]
    },
    {
      "cell_type": "code",
      "metadata": {
        "colab": {
          "base_uri": "https://localhost:8080/"
        },
        "id": "CMfwvZ0dCyOf",
        "outputId": "aed8bd62-7fba-4a18-e91b-12fa0fe63ec4"
      },
      "source": [
        "#multiple condition evaluation\n",
        "x=11;y=9\n",
        "if ((x >7) and (y>7)) or (x==y):\n",
        "    #(F AND T) OR F\n",
        "    #F OR F==>F\n",
        "    print('x is a positive single-digit number.')\n",
        "    "
      ],
      "execution_count": 13,
      "outputs": [
        {
          "output_type": "stream",
          "name": "stdout",
          "text": [
            "x is a positive single-digit number.\n"
          ]
        }
      ]
    },
    {
      "cell_type": "code",
      "metadata": {
        "id": "S9DEOIi_C1vH"
      },
      "source": [
        "# user defined function\n",
        "#function definition\n",
        "def area_cube(a):\n",
        "    print(\"value is = \",a)\n",
        "    return a*a*a\n",
        "#return will return a value which could be stored in a separate variable to be used later\n",
        "#print will just display the value as a message which cannot be stored and used later\n",
        "\n"
      ],
      "execution_count": 14,
      "outputs": []
    },
    {
      "cell_type": "code",
      "metadata": {
        "colab": {
          "base_uri": "https://localhost:8080/",
          "height": 37
        },
        "id": "PSdXnvWQC54w",
        "outputId": "49516a42-9d30-4697-b4d9-90378f7d13f6"
      },
      "source": [
        "#Types of Loops\n",
        "\"\"\"\n",
        "1.While-->conditional\n",
        "2.For-->iterative\n",
        "\"\"\"\n"
      ],
      "execution_count": 15,
      "outputs": [
        {
          "output_type": "execute_result",
          "data": {
            "application/vnd.google.colaboratory.intrinsic+json": {
              "type": "string"
            },
            "text/plain": [
              "'\\n1.While-->conditional\\n2.For-->iterative\\n'"
            ]
          },
          "metadata": {},
          "execution_count": 15
        }
      ]
    },
    {
      "cell_type": "code",
      "metadata": {
        "colab": {
          "base_uri": "https://localhost:8080/"
        },
        "id": "lCn0TJkFDGdP",
        "outputId": "668a7665-738c-4283-c4b7-809e698618bc"
      },
      "source": [
        "#while loop\n",
        "count=0\n",
        "while count<5:\n",
        "    print(count)\n",
        "    count=count+1\n",
        "else:\n",
        "    print(\"The loop exited because count =\",count)\n",
        "    "
      ],
      "execution_count": 16,
      "outputs": [
        {
          "output_type": "stream",
          "name": "stdout",
          "text": [
            "0\n",
            "1\n",
            "2\n",
            "3\n",
            "4\n",
            "The loop exited because count = 5\n"
          ]
        }
      ]
    },
    {
      "cell_type": "code",
      "metadata": {
        "colab": {
          "base_uri": "https://localhost:8080/"
        },
        "id": "iYoV-oOODJav",
        "outputId": "a4f72f86-1710-4c76-8900-4a749d4a3ea3"
      },
      "source": [
        "#Print the even numbers from 2 to 50 using the while loop\n",
        "count=2\n",
        "while count<=50:\n",
        "    print(count)\n",
        "    count=count+2"
      ],
      "execution_count": 17,
      "outputs": [
        {
          "output_type": "stream",
          "name": "stdout",
          "text": [
            "2\n",
            "4\n",
            "6\n",
            "8\n",
            "10\n",
            "12\n",
            "14\n",
            "16\n",
            "18\n",
            "20\n",
            "22\n",
            "24\n",
            "26\n",
            "28\n",
            "30\n",
            "32\n",
            "34\n",
            "36\n",
            "38\n",
            "40\n",
            "42\n",
            "44\n",
            "46\n",
            "48\n",
            "50\n"
          ]
        }
      ]
    },
    {
      "cell_type": "code",
      "metadata": {
        "colab": {
          "base_uri": "https://localhost:8080/"
        },
        "id": "VtDdYzBKDLy1",
        "outputId": "ec3ae5a1-bdce-48da-c857-8e6c81b6acc0"
      },
      "source": [
        "#Print the even numbers from 50 to 2 using the while loop\n",
        "count=50\n",
        "while count>=2:\n",
        "    print(count)\n",
        "    count=count-2\n",
        "    "
      ],
      "execution_count": 18,
      "outputs": [
        {
          "output_type": "stream",
          "name": "stdout",
          "text": [
            "50\n",
            "48\n",
            "46\n",
            "44\n",
            "42\n",
            "40\n",
            "38\n",
            "36\n",
            "34\n",
            "32\n",
            "30\n",
            "28\n",
            "26\n",
            "24\n",
            "22\n",
            "20\n",
            "18\n",
            "16\n",
            "14\n",
            "12\n",
            "10\n",
            "8\n",
            "6\n",
            "4\n",
            "2\n"
          ]
        }
      ]
    },
    {
      "cell_type": "code",
      "metadata": {
        "colab": {
          "base_uri": "https://localhost:8080/"
        },
        "id": "A1ltoHCWFVkg",
        "outputId": "1e704fa7-1b07-4476-aff2-c6182fcee053"
      },
      "source": [
        "#check for even odd numbers using while loop\n",
        "count=1\n",
        "while count<=50:\n",
        "    if count%2==0:\n",
        "        print(count,\" is an even number\")\n",
        "    else:\n",
        "        print(count,\" is an odd number\")\n",
        "    count=count+1"
      ],
      "execution_count": 19,
      "outputs": [
        {
          "output_type": "stream",
          "name": "stdout",
          "text": [
            "1  is an odd number\n",
            "2  is an even number\n",
            "3  is an odd number\n",
            "4  is an even number\n",
            "5  is an odd number\n",
            "6  is an even number\n",
            "7  is an odd number\n",
            "8  is an even number\n",
            "9  is an odd number\n",
            "10  is an even number\n",
            "11  is an odd number\n",
            "12  is an even number\n",
            "13  is an odd number\n",
            "14  is an even number\n",
            "15  is an odd number\n",
            "16  is an even number\n",
            "17  is an odd number\n",
            "18  is an even number\n",
            "19  is an odd number\n",
            "20  is an even number\n",
            "21  is an odd number\n",
            "22  is an even number\n",
            "23  is an odd number\n",
            "24  is an even number\n",
            "25  is an odd number\n",
            "26  is an even number\n",
            "27  is an odd number\n",
            "28  is an even number\n",
            "29  is an odd number\n",
            "30  is an even number\n",
            "31  is an odd number\n",
            "32  is an even number\n",
            "33  is an odd number\n",
            "34  is an even number\n",
            "35  is an odd number\n",
            "36  is an even number\n",
            "37  is an odd number\n",
            "38  is an even number\n",
            "39  is an odd number\n",
            "40  is an even number\n",
            "41  is an odd number\n",
            "42  is an even number\n",
            "43  is an odd number\n",
            "44  is an even number\n",
            "45  is an odd number\n",
            "46  is an even number\n",
            "47  is an odd number\n",
            "48  is an even number\n",
            "49  is an odd number\n",
            "50  is an even number\n"
          ]
        }
      ]
    },
    {
      "cell_type": "code",
      "metadata": {
        "colab": {
          "base_uri": "https://localhost:8080/"
        },
        "id": "pCImdI1xFZvU",
        "outputId": "3001e98f-cb49-4165-aa06-d812a16d8722"
      },
      "source": [
        "#printing table of 10 using while loop\n",
        "i=1\n",
        "while(i<=10):\n",
        "    print(\"10 *\",i,\" = \",10*i)\n",
        "    i=i+1"
      ],
      "execution_count": 20,
      "outputs": [
        {
          "output_type": "stream",
          "name": "stdout",
          "text": [
            "10 * 1  =  10\n",
            "10 * 2  =  20\n",
            "10 * 3  =  30\n",
            "10 * 4  =  40\n",
            "10 * 5  =  50\n",
            "10 * 6  =  60\n",
            "10 * 7  =  70\n",
            "10 * 8  =  80\n",
            "10 * 9  =  90\n",
            "10 * 10  =  100\n"
          ]
        }
      ]
    },
    {
      "cell_type": "code",
      "metadata": {
        "id": "jkSx2UZsFb4K"
      },
      "source": [
        ""
      ],
      "execution_count": null,
      "outputs": []
    },
    {
      "cell_type": "code",
      "metadata": {
        "id": "SYT2l7rIFhwM"
      },
      "source": [
        ""
      ],
      "execution_count": 21,
      "outputs": []
    },
    {
      "cell_type": "code",
      "metadata": {
        "id": "uy3B9ohVFiL_"
      },
      "source": [
        ""
      ],
      "execution_count": null,
      "outputs": []
    }
  ]
}